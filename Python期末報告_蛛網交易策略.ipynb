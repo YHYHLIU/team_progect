{
 "cells": [
  {
   "cell_type": "code",
   "execution_count": 1,
   "metadata": {
    "collapsed": true
   },
   "outputs": [],
   "source": [
    "import pandas as pd\n",
    "import numpy as np\n",
    "import math"
   ]
  },
  {
   "cell_type": "code",
   "execution_count": 2,
   "metadata": {
    "collapsed": true
   },
   "outputs": [],
   "source": [
    "stockdata_all = pd.read_csv('stockdata.csv', encoding = 'cp950')"
   ]
  },
  {
   "cell_type": "code",
   "execution_count": 3,
   "metadata": {
    "collapsed": true
   },
   "outputs": [],
   "source": [
    "stocklist = [2317]"
   ]
  },
  {
   "cell_type": "code",
   "execution_count": 4,
   "metadata": {
    "collapsed": true
   },
   "outputs": [],
   "source": [
    "stockdata_raw = stockdata_all[stockdata_all['code']==stocklist[0]][['code','date','close']]"
   ]
  },
  {
   "cell_type": "code",
   "execution_count": 5,
   "metadata": {},
   "outputs": [
    {
     "data": {
      "text/html": [
       "<div>\n",
       "<style>\n",
       "    .dataframe thead tr:only-child th {\n",
       "        text-align: right;\n",
       "    }\n",
       "\n",
       "    .dataframe thead th {\n",
       "        text-align: left;\n",
       "    }\n",
       "\n",
       "    .dataframe tbody tr th {\n",
       "        vertical-align: top;\n",
       "    }\n",
       "</style>\n",
       "<table border=\"1\" class=\"dataframe\">\n",
       "  <thead>\n",
       "    <tr style=\"text-align: right;\">\n",
       "      <th></th>\n",
       "      <th>code</th>\n",
       "      <th>date</th>\n",
       "      <th>close</th>\n",
       "    </tr>\n",
       "  </thead>\n",
       "  <tbody>\n",
       "    <tr>\n",
       "      <th>755037</th>\n",
       "      <td>2317</td>\n",
       "      <td>20070102</td>\n",
       "      <td>58.44</td>\n",
       "    </tr>\n",
       "    <tr>\n",
       "      <th>755038</th>\n",
       "      <td>2317</td>\n",
       "      <td>20070103</td>\n",
       "      <td>58.69</td>\n",
       "    </tr>\n",
       "    <tr>\n",
       "      <th>755039</th>\n",
       "      <td>2317</td>\n",
       "      <td>20070104</td>\n",
       "      <td>59.43</td>\n",
       "    </tr>\n",
       "    <tr>\n",
       "      <th>755040</th>\n",
       "      <td>2317</td>\n",
       "      <td>20070105</td>\n",
       "      <td>57.83</td>\n",
       "    </tr>\n",
       "    <tr>\n",
       "      <th>755041</th>\n",
       "      <td>2317</td>\n",
       "      <td>20070108</td>\n",
       "      <td>57.09</td>\n",
       "    </tr>\n",
       "  </tbody>\n",
       "</table>\n",
       "</div>"
      ],
      "text/plain": [
       "        code      date  close\n",
       "755037  2317  20070102  58.44\n",
       "755038  2317  20070103  58.69\n",
       "755039  2317  20070104  59.43\n",
       "755040  2317  20070105  57.83\n",
       "755041  2317  20070108  57.09"
      ]
     },
     "execution_count": 5,
     "metadata": {},
     "output_type": "execute_result"
    }
   ],
   "source": [
    "stockdata_raw.head()"
   ]
  },
  {
   "cell_type": "code",
   "execution_count": 7,
   "metadata": {
    "collapsed": true
   },
   "outputs": [],
   "source": [
    "#===============================initial parameters===========================\n",
    "Mm = 10000000\n",
    "cash_ratio = 0.2\n",
    "M = Mm*(1-cash_ratio)\n",
    "Time = 3\n",
    "day_in_year = 252\n",
    "r = 0.013\n",
    "h = 0.5\n",
    "vol_day = 20\n",
    "in_sample_last_year = 2012\n",
    "tc_buy = 0.001425\n",
    "tc_sell = 0.004425"
   ]
  },
  {
   "cell_type": "code",
   "execution_count": 8,
   "metadata": {
    "collapsed": true
   },
   "outputs": [],
   "source": [
    "stockdata = stockdata_raw\n",
    "stockdata['lag_close'] = stockdata['close'].shift(1)\n",
    "stockdata['return'] = np.log(stockdata['close']/stockdata['lag_close'])\n",
    "stockdata['vol'] = math.sqrt(252)*stockdata['return'].rolling(vol_day).std()"
   ]
  },
  {
   "cell_type": "code",
   "execution_count": 9,
   "metadata": {},
   "outputs": [
    {
     "data": {
      "text/html": [
       "<div>\n",
       "<style>\n",
       "    .dataframe thead tr:only-child th {\n",
       "        text-align: right;\n",
       "    }\n",
       "\n",
       "    .dataframe thead th {\n",
       "        text-align: left;\n",
       "    }\n",
       "\n",
       "    .dataframe tbody tr th {\n",
       "        vertical-align: top;\n",
       "    }\n",
       "</style>\n",
       "<table border=\"1\" class=\"dataframe\">\n",
       "  <thead>\n",
       "    <tr style=\"text-align: right;\">\n",
       "      <th></th>\n",
       "      <th>code</th>\n",
       "      <th>date</th>\n",
       "      <th>close</th>\n",
       "      <th>lag_close</th>\n",
       "      <th>return</th>\n",
       "      <th>vol</th>\n",
       "    </tr>\n",
       "  </thead>\n",
       "  <tbody>\n",
       "    <tr>\n",
       "      <th>755037</th>\n",
       "      <td>2317</td>\n",
       "      <td>20070102</td>\n",
       "      <td>58.44</td>\n",
       "      <td>NaN</td>\n",
       "      <td>NaN</td>\n",
       "      <td>NaN</td>\n",
       "    </tr>\n",
       "    <tr>\n",
       "      <th>755038</th>\n",
       "      <td>2317</td>\n",
       "      <td>20070103</td>\n",
       "      <td>58.69</td>\n",
       "      <td>58.44</td>\n",
       "      <td>0.004269</td>\n",
       "      <td>NaN</td>\n",
       "    </tr>\n",
       "    <tr>\n",
       "      <th>755039</th>\n",
       "      <td>2317</td>\n",
       "      <td>20070104</td>\n",
       "      <td>59.43</td>\n",
       "      <td>58.69</td>\n",
       "      <td>0.012530</td>\n",
       "      <td>NaN</td>\n",
       "    </tr>\n",
       "    <tr>\n",
       "      <th>755040</th>\n",
       "      <td>2317</td>\n",
       "      <td>20070105</td>\n",
       "      <td>57.83</td>\n",
       "      <td>59.43</td>\n",
       "      <td>-0.027291</td>\n",
       "      <td>NaN</td>\n",
       "    </tr>\n",
       "    <tr>\n",
       "      <th>755041</th>\n",
       "      <td>2317</td>\n",
       "      <td>20070108</td>\n",
       "      <td>57.09</td>\n",
       "      <td>57.83</td>\n",
       "      <td>-0.012879</td>\n",
       "      <td>NaN</td>\n",
       "    </tr>\n",
       "  </tbody>\n",
       "</table>\n",
       "</div>"
      ],
      "text/plain": [
       "        code      date  close  lag_close    return  vol\n",
       "755037  2317  20070102  58.44        NaN       NaN  NaN\n",
       "755038  2317  20070103  58.69      58.44  0.004269  NaN\n",
       "755039  2317  20070104  59.43      58.69  0.012530  NaN\n",
       "755040  2317  20070105  57.83      59.43 -0.027291  NaN\n",
       "755041  2317  20070108  57.09      57.83 -0.012879  NaN"
      ]
     },
     "execution_count": 9,
     "metadata": {},
     "output_type": "execute_result"
    }
   ],
   "source": [
    "stockdata.head()"
   ]
  },
  {
   "cell_type": "code",
   "execution_count": 10,
   "metadata": {
    "collapsed": true
   },
   "outputs": [],
   "source": [
    "in_sample_stock_data = stockdata[stockdata['date']<=(in_sample_last_year*10000+1231)]"
   ]
  },
  {
   "cell_type": "code",
   "execution_count": 11,
   "metadata": {
    "scrolled": true
   },
   "outputs": [
    {
     "data": {
      "text/html": [
       "<div>\n",
       "<style>\n",
       "    .dataframe thead tr:only-child th {\n",
       "        text-align: right;\n",
       "    }\n",
       "\n",
       "    .dataframe thead th {\n",
       "        text-align: left;\n",
       "    }\n",
       "\n",
       "    .dataframe tbody tr th {\n",
       "        vertical-align: top;\n",
       "    }\n",
       "</style>\n",
       "<table border=\"1\" class=\"dataframe\">\n",
       "  <thead>\n",
       "    <tr style=\"text-align: right;\">\n",
       "      <th></th>\n",
       "      <th>code</th>\n",
       "      <th>date</th>\n",
       "      <th>close</th>\n",
       "      <th>lag_close</th>\n",
       "      <th>return</th>\n",
       "      <th>vol</th>\n",
       "    </tr>\n",
       "  </thead>\n",
       "  <tbody>\n",
       "    <tr>\n",
       "      <th>756527</th>\n",
       "      <td>2317</td>\n",
       "      <td>20121224</td>\n",
       "      <td>52.42</td>\n",
       "      <td>52.60</td>\n",
       "      <td>-0.003428</td>\n",
       "      <td>0.275596</td>\n",
       "    </tr>\n",
       "    <tr>\n",
       "      <th>756528</th>\n",
       "      <td>2317</td>\n",
       "      <td>20121225</td>\n",
       "      <td>53.01</td>\n",
       "      <td>52.42</td>\n",
       "      <td>0.011192</td>\n",
       "      <td>0.278622</td>\n",
       "    </tr>\n",
       "    <tr>\n",
       "      <th>756529</th>\n",
       "      <td>2317</td>\n",
       "      <td>20121226</td>\n",
       "      <td>52.84</td>\n",
       "      <td>53.01</td>\n",
       "      <td>-0.003212</td>\n",
       "      <td>0.278621</td>\n",
       "    </tr>\n",
       "    <tr>\n",
       "      <th>756530</th>\n",
       "      <td>2317</td>\n",
       "      <td>20121227</td>\n",
       "      <td>53.13</td>\n",
       "      <td>52.84</td>\n",
       "      <td>0.005473</td>\n",
       "      <td>0.279599</td>\n",
       "    </tr>\n",
       "    <tr>\n",
       "      <th>756531</th>\n",
       "      <td>2317</td>\n",
       "      <td>20121228</td>\n",
       "      <td>53.07</td>\n",
       "      <td>53.13</td>\n",
       "      <td>-0.001130</td>\n",
       "      <td>0.271165</td>\n",
       "    </tr>\n",
       "  </tbody>\n",
       "</table>\n",
       "</div>"
      ],
      "text/plain": [
       "        code      date  close  lag_close    return       vol\n",
       "756527  2317  20121224  52.42      52.60 -0.003428  0.275596\n",
       "756528  2317  20121225  53.01      52.42  0.011192  0.278622\n",
       "756529  2317  20121226  52.84      53.01 -0.003212  0.278621\n",
       "756530  2317  20121227  53.13      52.84  0.005473  0.279599\n",
       "756531  2317  20121228  53.07      53.13 -0.001130  0.271165"
      ]
     },
     "execution_count": 11,
     "metadata": {},
     "output_type": "execute_result"
    }
   ],
   "source": [
    "in_sample_stock_data.tail()"
   ]
  },
  {
   "cell_type": "code",
   "execution_count": 12,
   "metadata": {
    "collapsed": true
   },
   "outputs": [],
   "source": [
    "out_stock_data = stockdata[stockdata['date']>(in_sample_last_year*10000+1231)]"
   ]
  },
  {
   "cell_type": "code",
   "execution_count": 13,
   "metadata": {
    "collapsed": true
   },
   "outputs": [],
   "source": [
    "in_time_sp = in_sample_stock_data['close'].quantile(0.2)"
   ]
  },
  {
   "cell_type": "code",
   "execution_count": 14,
   "metadata": {
    "collapsed": true
   },
   "outputs": [],
   "source": [
    "in_position = np.amin(np.where(out_stock_data['close'] <= in_time_sp))"
   ]
  },
  {
   "cell_type": "code",
   "execution_count": null,
   "metadata": {
    "collapsed": true
   },
   "outputs": [],
   "source": [
    "if np.isinf(in_position)==False :\n",
    "    out_stock_data1 = out_stock_data[in_position:]\n",
    "    out_stock_data1 = out_stock_data1[0:(Time*day_in_year)]\n",
    "    S = out_stock_data1['close'][0:1]\n",
    "    vol=out_stock_data1['vol'][0:1]\n"
   ]
  },
  {
   "cell_type": "code",
   "execution_count": null,
   "metadata": {
    "collapsed": true
   },
   "outputs": [],
   "source": []
  },
  {
   "cell_type": "code",
   "execution_count": null,
   "metadata": {
    "collapsed": true
   },
   "outputs": [],
   "source": [
    "#================================Rcode(約在R程式碼第49、50行附近)========================================\n",
    "\n",
    "myFunction <- function(x){   # 設定求解方程\n",
    "      y <- numeric(2)\n",
    "      m <- x[1] \n",
    "      K <- x[2]\n",
    "      d1 <- (log(S/K)+(r+0.5*vol^2)*Time)/(vol*sqrt(Time))\n",
    "      d2 <- d1-vol*sqrt(Time)\n",
    "      y[1] <- ( M*(1+h)/K-m )\n",
    "      y[2] <- (M-m*(S*pnorm(-d1)+K*exp(-r*Time)*pnorm(d2)) )\n",
    "      return(y)\n",
    "    }"
   ]
  },
  {
   "cell_type": "code",
   "execution_count": null,
   "metadata": {
    "collapsed": true
   },
   "outputs": [],
   "source": []
  },
  {
   "cell_type": "code",
   "execution_count": null,
   "metadata": {
    "collapsed": true
   },
   "outputs": [],
   "source": []
  },
  {
   "cell_type": "code",
   "execution_count": null,
   "metadata": {
    "collapsed": true
   },
   "outputs": [],
   "source": []
  },
  {
   "cell_type": "code",
   "execution_count": null,
   "metadata": {
    "collapsed": true
   },
   "outputs": [],
   "source": []
  },
  {
   "cell_type": "code",
   "execution_count": null,
   "metadata": {
    "collapsed": true
   },
   "outputs": [],
   "source": []
  },
  {
   "cell_type": "code",
   "execution_count": null,
   "metadata": {
    "collapsed": true
   },
   "outputs": [],
   "source": []
  },
  {
   "cell_type": "code",
   "execution_count": null,
   "metadata": {
    "collapsed": true
   },
   "outputs": [],
   "source": []
  }
 ],
 "metadata": {
  "kernelspec": {
   "display_name": "Python 3",
   "language": "python",
   "name": "python3"
  },
  "language_info": {
   "codemirror_mode": {
    "name": "ipython",
    "version": 3
   },
   "file_extension": ".py",
   "mimetype": "text/x-python",
   "name": "python",
   "nbconvert_exporter": "python",
   "pygments_lexer": "ipython3",
   "version": "3.6.3"
  }
 },
 "nbformat": 4,
 "nbformat_minor": 2
}
